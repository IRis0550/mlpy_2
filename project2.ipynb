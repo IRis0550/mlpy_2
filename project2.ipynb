{
 "cells": [
  {
   "cell_type": "markdown",
   "metadata": {
    "cell_id": "a9c673f4b97f45d0975f547cb6070545",
    "deepnote_cell_type": "markdown"
   },
   "source": "# Machine Learning in Python - Project 2\n\nDue Friday, April 12th by 4 pm.\n\n*Include contributors names in notebook metadata or here*",
   "block_group": "d12f5692dbf546e09c5366fefe31e721"
  },
  {
   "cell_type": "markdown",
   "metadata": {
    "cell_id": "f6fb20cc81f34af892849ba423586298",
    "deepnote_cell_type": "markdown"
   },
   "source": "## Setup\n\n*Install any packages here and load data*",
   "block_group": "95b0187ca2a54027ab96f65f270ae13d"
  },
  {
   "cell_type": "code",
   "metadata": {
    "cell_id": "5e0f7c40d70f4ffd9cf842131c93b523",
    "deepnote_cell_type": "code",
    "ExecuteTime": {
     "end_time": "2024-04-08T19:55:18.446284Z",
     "start_time": "2024-04-08T19:55:18.419744Z"
    }
   },
   "source": "# Add any additional libraries or submodules below\n\n# Data libraries\nimport pandas as pd\nimport numpy as np\n\n# Plotting libraries\nimport matplotlib.pyplot as plt\nimport seaborn as sns\n\n# Plotting defaults\nplt.rcParams['figure.figsize'] = (8,5)\nplt.rcParams['figure.dpi'] = 80\n\n# sklearn modules\nimport sklearn",
   "block_group": "7066c1c1415045488c0cbdef73aa6cb5",
   "outputs_reference": null,
   "outputs": [],
   "execution_count": 11
  },
  {
   "cell_type": "code",
   "metadata": {
    "cell_id": "c4b2ebf63937440f9cec0090082b1a9f",
    "deepnote_cell_type": "code",
    "ExecuteTime": {
     "end_time": "2024-04-08T19:55:19.446807Z",
     "start_time": "2024-04-08T19:55:19.339726Z"
    }
   },
   "source": "# Load data in easyshare.csv\nd = pd.read_csv(\"freddiemac.csv\")\nd.head()",
   "block_group": "65e4a8afde944481b57741828ee93ad8",
   "outputs_reference": null,
   "outputs": [
    {
     "data": {
      "text/plain": "    fico  dt_first_pi flag_fthb  dt_matr   cd_msa  mi_pct  cnt_units  \\\n0  709.0       201703         9   204702      NaN      12          1   \n1  649.0       201703         9   203202  33124.0       0          1   \n2  747.0       201703         9   203702  41180.0       0          1   \n3  711.0       201703         9   204702  20260.0       0          1   \n4  751.0       201703         N   204702      NaN      35          1   \n\n  occpy_sts  cltv  dti  ...  zipcode       id_loan  loan_purpose  \\\n0         P    84   26  ...    51300  F117Q1000376             N   \n1         P    52   22  ...    33100  F117Q1000418             C   \n2         I    43   20  ...    63100  F117Q1000479             N   \n3         I    80   21  ...    55800  F117Q1000523             P   \n4         P    95   24  ...    75900  F117Q1000719             P   \n\n  orig_loan_term cnt_borr    seller_name        servicer_name flag_sc  \\\n0            360        2  Other sellers      Other servicers     NaN   \n1            180        2  Other sellers      Other servicers     NaN   \n2            240        2  Other sellers      Other servicers     NaN   \n3            360        2  Other sellers      Other servicers     NaN   \n4            360        1  Other sellers  ARVESTCENTRALMTGECO     NaN   \n\n   prepaid default  \n0        0       1  \n1        1       0  \n2        1       0  \n3        1       0  \n4        1       0  \n\n[5 rows x 28 columns]",
      "text/html": "<div>\n<style scoped>\n    .dataframe tbody tr th:only-of-type {\n        vertical-align: middle;\n    }\n\n    .dataframe tbody tr th {\n        vertical-align: top;\n    }\n\n    .dataframe thead th {\n        text-align: right;\n    }\n</style>\n<table border=\"1\" class=\"dataframe\">\n  <thead>\n    <tr style=\"text-align: right;\">\n      <th></th>\n      <th>fico</th>\n      <th>dt_first_pi</th>\n      <th>flag_fthb</th>\n      <th>dt_matr</th>\n      <th>cd_msa</th>\n      <th>mi_pct</th>\n      <th>cnt_units</th>\n      <th>occpy_sts</th>\n      <th>cltv</th>\n      <th>dti</th>\n      <th>...</th>\n      <th>zipcode</th>\n      <th>id_loan</th>\n      <th>loan_purpose</th>\n      <th>orig_loan_term</th>\n      <th>cnt_borr</th>\n      <th>seller_name</th>\n      <th>servicer_name</th>\n      <th>flag_sc</th>\n      <th>prepaid</th>\n      <th>default</th>\n    </tr>\n  </thead>\n  <tbody>\n    <tr>\n      <th>0</th>\n      <td>709.0</td>\n      <td>201703</td>\n      <td>9</td>\n      <td>204702</td>\n      <td>NaN</td>\n      <td>12</td>\n      <td>1</td>\n      <td>P</td>\n      <td>84</td>\n      <td>26</td>\n      <td>...</td>\n      <td>51300</td>\n      <td>F117Q1000376</td>\n      <td>N</td>\n      <td>360</td>\n      <td>2</td>\n      <td>Other sellers</td>\n      <td>Other servicers</td>\n      <td>NaN</td>\n      <td>0</td>\n      <td>1</td>\n    </tr>\n    <tr>\n      <th>1</th>\n      <td>649.0</td>\n      <td>201703</td>\n      <td>9</td>\n      <td>203202</td>\n      <td>33124.0</td>\n      <td>0</td>\n      <td>1</td>\n      <td>P</td>\n      <td>52</td>\n      <td>22</td>\n      <td>...</td>\n      <td>33100</td>\n      <td>F117Q1000418</td>\n      <td>C</td>\n      <td>180</td>\n      <td>2</td>\n      <td>Other sellers</td>\n      <td>Other servicers</td>\n      <td>NaN</td>\n      <td>1</td>\n      <td>0</td>\n    </tr>\n    <tr>\n      <th>2</th>\n      <td>747.0</td>\n      <td>201703</td>\n      <td>9</td>\n      <td>203702</td>\n      <td>41180.0</td>\n      <td>0</td>\n      <td>1</td>\n      <td>I</td>\n      <td>43</td>\n      <td>20</td>\n      <td>...</td>\n      <td>63100</td>\n      <td>F117Q1000479</td>\n      <td>N</td>\n      <td>240</td>\n      <td>2</td>\n      <td>Other sellers</td>\n      <td>Other servicers</td>\n      <td>NaN</td>\n      <td>1</td>\n      <td>0</td>\n    </tr>\n    <tr>\n      <th>3</th>\n      <td>711.0</td>\n      <td>201703</td>\n      <td>9</td>\n      <td>204702</td>\n      <td>20260.0</td>\n      <td>0</td>\n      <td>1</td>\n      <td>I</td>\n      <td>80</td>\n      <td>21</td>\n      <td>...</td>\n      <td>55800</td>\n      <td>F117Q1000523</td>\n      <td>P</td>\n      <td>360</td>\n      <td>2</td>\n      <td>Other sellers</td>\n      <td>Other servicers</td>\n      <td>NaN</td>\n      <td>1</td>\n      <td>0</td>\n    </tr>\n    <tr>\n      <th>4</th>\n      <td>751.0</td>\n      <td>201703</td>\n      <td>N</td>\n      <td>204702</td>\n      <td>NaN</td>\n      <td>35</td>\n      <td>1</td>\n      <td>P</td>\n      <td>95</td>\n      <td>24</td>\n      <td>...</td>\n      <td>75900</td>\n      <td>F117Q1000719</td>\n      <td>P</td>\n      <td>360</td>\n      <td>1</td>\n      <td>Other sellers</td>\n      <td>ARVESTCENTRALMTGECO</td>\n      <td>NaN</td>\n      <td>1</td>\n      <td>0</td>\n    </tr>\n  </tbody>\n</table>\n<p>5 rows × 28 columns</p>\n</div>"
     },
     "execution_count": 12,
     "metadata": {},
     "output_type": "execute_result"
    }
   ],
   "execution_count": 12
  },
  {
   "cell_type": "markdown",
   "source": [
    "## Data Exploration"
   ],
   "metadata": {
    "collapsed": false
   }
  },
  {
   "metadata": {
    "ExecuteTime": {
     "end_time": "2024-04-08T19:55:22.311631Z",
     "start_time": "2024-04-08T19:55:22.256465Z"
    }
   },
   "cell_type": "code",
   "source": [
    "# Describe the data\n",
    "d.describe()"
   ],
   "outputs": [
    {
     "data": {
      "text/plain": "              fico    dt_first_pi        dt_matr        cd_msa       mi_pct  \\\ncount  6103.000000    6104.000000    6104.000000   5510.000000  6104.000000   \nmean    744.762740  201735.558650  204456.275885  30746.564428     5.027031   \nstd      48.208044      44.837849     573.354730  11158.605589    10.526750   \nmin     549.000000  201702.000000  202504.000000  10180.000000     0.000000   \n25%     708.000000  201705.000000  204702.000000  19740.000000     0.000000   \n50%     753.000000  201709.000000  204706.000000  33340.000000     0.000000   \n75%     786.000000  201802.000000  204711.000000  40140.000000     0.000000   \nmax     832.000000  201901.000000  204812.000000  49740.000000    35.000000   \n\n         cnt_units         cltv          dti       orig_upb          ltv  \\\ncount  6104.000000  6104.000000  6104.000000    6104.000000  6104.000000   \nmean      1.030799    72.502785    35.964613  244066.186107    72.046527   \nstd       0.246957    20.808191    15.583786  131445.871930    20.809927   \nmin       1.000000     7.000000     3.000000   22000.000000     7.000000   \n25%       1.000000    65.000000    29.000000  143000.000000    64.000000   \n50%       1.000000    77.000000    38.000000  218000.000000    75.000000   \n75%       1.000000    80.000000    43.000000  328000.000000    80.000000   \nmax       4.000000   999.000000   999.000000  795000.000000   999.000000   \n\n            int_rt       zipcode  orig_loan_term     cnt_borr      prepaid  \\\ncount  6104.000000   6104.000000     6104.000000  6104.000000  6104.000000   \nmean      4.386463  61015.612713      327.018676     1.482634     0.981488   \nstd       0.508065  29401.664859       68.374234     0.499739     0.134806   \nmin       2.625000    800.000000       96.000000     1.000000     0.000000   \n25%       4.125000  33900.000000      360.000000     1.000000     1.000000   \n50%       4.375000  65000.000000      360.000000     1.000000     1.000000   \n75%       4.750000  89800.000000      360.000000     2.000000     1.000000   \nmax       6.125000  99900.000000      360.000000     2.000000     1.000000   \n\n           default  \ncount  6104.000000  \nmean      0.018512  \nstd       0.134806  \nmin       0.000000  \n25%       0.000000  \n50%       0.000000  \n75%       0.000000  \nmax       1.000000  ",
      "text/html": "<div>\n<style scoped>\n    .dataframe tbody tr th:only-of-type {\n        vertical-align: middle;\n    }\n\n    .dataframe tbody tr th {\n        vertical-align: top;\n    }\n\n    .dataframe thead th {\n        text-align: right;\n    }\n</style>\n<table border=\"1\" class=\"dataframe\">\n  <thead>\n    <tr style=\"text-align: right;\">\n      <th></th>\n      <th>fico</th>\n      <th>dt_first_pi</th>\n      <th>dt_matr</th>\n      <th>cd_msa</th>\n      <th>mi_pct</th>\n      <th>cnt_units</th>\n      <th>cltv</th>\n      <th>dti</th>\n      <th>orig_upb</th>\n      <th>ltv</th>\n      <th>int_rt</th>\n      <th>zipcode</th>\n      <th>orig_loan_term</th>\n      <th>cnt_borr</th>\n      <th>prepaid</th>\n      <th>default</th>\n    </tr>\n  </thead>\n  <tbody>\n    <tr>\n      <th>count</th>\n      <td>6103.000000</td>\n      <td>6104.000000</td>\n      <td>6104.000000</td>\n      <td>5510.000000</td>\n      <td>6104.000000</td>\n      <td>6104.000000</td>\n      <td>6104.000000</td>\n      <td>6104.000000</td>\n      <td>6104.000000</td>\n      <td>6104.000000</td>\n      <td>6104.000000</td>\n      <td>6104.000000</td>\n      <td>6104.000000</td>\n      <td>6104.000000</td>\n      <td>6104.000000</td>\n      <td>6104.000000</td>\n    </tr>\n    <tr>\n      <th>mean</th>\n      <td>744.762740</td>\n      <td>201735.558650</td>\n      <td>204456.275885</td>\n      <td>30746.564428</td>\n      <td>5.027031</td>\n      <td>1.030799</td>\n      <td>72.502785</td>\n      <td>35.964613</td>\n      <td>244066.186107</td>\n      <td>72.046527</td>\n      <td>4.386463</td>\n      <td>61015.612713</td>\n      <td>327.018676</td>\n      <td>1.482634</td>\n      <td>0.981488</td>\n      <td>0.018512</td>\n    </tr>\n    <tr>\n      <th>std</th>\n      <td>48.208044</td>\n      <td>44.837849</td>\n      <td>573.354730</td>\n      <td>11158.605589</td>\n      <td>10.526750</td>\n      <td>0.246957</td>\n      <td>20.808191</td>\n      <td>15.583786</td>\n      <td>131445.871930</td>\n      <td>20.809927</td>\n      <td>0.508065</td>\n      <td>29401.664859</td>\n      <td>68.374234</td>\n      <td>0.499739</td>\n      <td>0.134806</td>\n      <td>0.134806</td>\n    </tr>\n    <tr>\n      <th>min</th>\n      <td>549.000000</td>\n      <td>201702.000000</td>\n      <td>202504.000000</td>\n      <td>10180.000000</td>\n      <td>0.000000</td>\n      <td>1.000000</td>\n      <td>7.000000</td>\n      <td>3.000000</td>\n      <td>22000.000000</td>\n      <td>7.000000</td>\n      <td>2.625000</td>\n      <td>800.000000</td>\n      <td>96.000000</td>\n      <td>1.000000</td>\n      <td>0.000000</td>\n      <td>0.000000</td>\n    </tr>\n    <tr>\n      <th>25%</th>\n      <td>708.000000</td>\n      <td>201705.000000</td>\n      <td>204702.000000</td>\n      <td>19740.000000</td>\n      <td>0.000000</td>\n      <td>1.000000</td>\n      <td>65.000000</td>\n      <td>29.000000</td>\n      <td>143000.000000</td>\n      <td>64.000000</td>\n      <td>4.125000</td>\n      <td>33900.000000</td>\n      <td>360.000000</td>\n      <td>1.000000</td>\n      <td>1.000000</td>\n      <td>0.000000</td>\n    </tr>\n    <tr>\n      <th>50%</th>\n      <td>753.000000</td>\n      <td>201709.000000</td>\n      <td>204706.000000</td>\n      <td>33340.000000</td>\n      <td>0.000000</td>\n      <td>1.000000</td>\n      <td>77.000000</td>\n      <td>38.000000</td>\n      <td>218000.000000</td>\n      <td>75.000000</td>\n      <td>4.375000</td>\n      <td>65000.000000</td>\n      <td>360.000000</td>\n      <td>1.000000</td>\n      <td>1.000000</td>\n      <td>0.000000</td>\n    </tr>\n    <tr>\n      <th>75%</th>\n      <td>786.000000</td>\n      <td>201802.000000</td>\n      <td>204711.000000</td>\n      <td>40140.000000</td>\n      <td>0.000000</td>\n      <td>1.000000</td>\n      <td>80.000000</td>\n      <td>43.000000</td>\n      <td>328000.000000</td>\n      <td>80.000000</td>\n      <td>4.750000</td>\n      <td>89800.000000</td>\n      <td>360.000000</td>\n      <td>2.000000</td>\n      <td>1.000000</td>\n      <td>0.000000</td>\n    </tr>\n    <tr>\n      <th>max</th>\n      <td>832.000000</td>\n      <td>201901.000000</td>\n      <td>204812.000000</td>\n      <td>49740.000000</td>\n      <td>35.000000</td>\n      <td>4.000000</td>\n      <td>999.000000</td>\n      <td>999.000000</td>\n      <td>795000.000000</td>\n      <td>999.000000</td>\n      <td>6.125000</td>\n      <td>99900.000000</td>\n      <td>360.000000</td>\n      <td>2.000000</td>\n      <td>1.000000</td>\n      <td>1.000000</td>\n    </tr>\n  </tbody>\n</table>\n</div>"
     },
     "execution_count": 14,
     "metadata": {},
     "output_type": "execute_result"
    }
   ],
   "execution_count": 14
  },
  {
   "metadata": {
    "ExecuteTime": {
     "end_time": "2024-04-08T19:55:22.941907Z",
     "start_time": "2024-04-08T19:55:22.892391Z"
    }
   },
   "cell_type": "code",
   "source": [
    "# data info\n",
    "d.info()"
   ],
   "outputs": [
    {
     "name": "stdout",
     "output_type": "stream",
     "text": [
      "<class 'pandas.core.frame.DataFrame'>\n",
      "RangeIndex: 6104 entries, 0 to 6103\n",
      "Data columns (total 28 columns):\n",
      " #   Column          Non-Null Count  Dtype  \n",
      "---  ------          --------------  -----  \n",
      " 0   fico            6103 non-null   float64\n",
      " 1   dt_first_pi     6104 non-null   int64  \n",
      " 2   flag_fthb       6104 non-null   object \n",
      " 3   dt_matr         6104 non-null   int64  \n",
      " 4   cd_msa          5510 non-null   float64\n",
      " 5   mi_pct          6104 non-null   int64  \n",
      " 6   cnt_units       6104 non-null   int64  \n",
      " 7   occpy_sts       6104 non-null   object \n",
      " 8   cltv            6104 non-null   int64  \n",
      " 9   dti             6104 non-null   int64  \n",
      " 10  orig_upb        6104 non-null   int64  \n",
      " 11  ltv             6104 non-null   int64  \n",
      " 12  int_rt          6104 non-null   float64\n",
      " 13  channel         6104 non-null   object \n",
      " 14  ppmt_pnlty      6066 non-null   object \n",
      " 15  prod_type       6104 non-null   object \n",
      " 16  st              6104 non-null   object \n",
      " 17  prop_type       6104 non-null   object \n",
      " 18  zipcode         6104 non-null   int64  \n",
      " 19  id_loan         6104 non-null   object \n",
      " 20  loan_purpose    6104 non-null   object \n",
      " 21  orig_loan_term  6104 non-null   int64  \n",
      " 22  cnt_borr        6104 non-null   int64  \n",
      " 23  seller_name     6104 non-null   object \n",
      " 24  servicer_name   6104 non-null   object \n",
      " 25  flag_sc         353 non-null    object \n",
      " 26  prepaid         6104 non-null   int64  \n",
      " 27  default         6104 non-null   int64  \n",
      "dtypes: float64(3), int64(13), object(12)\n",
      "memory usage: 1.3+ MB\n"
     ]
    }
   ],
   "execution_count": 15
  },
  {
   "metadata": {
    "ExecuteTime": {
     "end_time": "2024-04-08T19:55:23.362582Z",
     "start_time": "2024-04-08T19:55:23.356901Z"
    }
   },
   "cell_type": "code",
   "source": [
    "# Calculate the proportion of default == 1\n",
    "d['default'].mean()\n",
    "# really imbalanced data"
   ],
   "outputs": [
    {
     "data": {
      "text/plain": "0.018512450851900394"
     },
     "execution_count": 16,
     "metadata": {},
     "output_type": "execute_result"
    }
   ],
   "execution_count": 16
  },
  {
   "metadata": {
    "ExecuteTime": {
     "end_time": "2024-04-08T19:55:24.070686Z",
     "start_time": "2024-04-08T19:55:24.056705Z"
    }
   },
   "cell_type": "code",
   "source": [
    "# count the nunber of missing values\n",
    "d.isnull().sum()"
   ],
   "outputs": [
    {
     "data": {
      "text/plain": "fico                 1\ndt_first_pi          0\nflag_fthb            0\ndt_matr              0\ncd_msa             594\nmi_pct               0\ncnt_units            0\noccpy_sts            0\ncltv                 0\ndti                  0\norig_upb             0\nltv                  0\nint_rt               0\nchannel              0\nppmt_pnlty          38\nprod_type            0\nst                   0\nprop_type            0\nzipcode              0\nid_loan              0\nloan_purpose         0\norig_loan_term       0\ncnt_borr             0\nseller_name          0\nservicer_name        0\nflag_sc           5751\nprepaid              0\ndefault              0\ndtype: int64"
     },
     "execution_count": 17,
     "metadata": {},
     "output_type": "execute_result"
    }
   ],
   "execution_count": 17
  },
  {
   "metadata": {
    "ExecuteTime": {
     "end_time": "2024-04-08T20:18:33.157077Z",
     "start_time": "2024-04-08T20:18:33.143134Z"
    }
   },
   "cell_type": "code",
   "source": [
    "#drop the missing value in 'fico'\n",
    "d_new = d.dropna(subset=['fico'])\n",
    "# fill the missing value in 'cd_msa' and 'flag_sc' with 9\n",
    "d_new['cd_msa'] = d_new['cd_msa'].fillna(9)\n",
    "d_new['flag_sc'] = d_new['flag_sc'].fillna(9)\n",
    "d_new= d_new.drop('prepaid', axis=1)"
   ],
   "outputs": [],
   "execution_count": 35
  },
  {
   "cell_type": "code",
   "outputs": [],
   "source": [
    "# Convert 'cd_msa' and 'zipcode' columns to 'object' data type\n",
    "d_new['cd_msa'] = d_new['cd_msa'].astype('object')\n",
    "d_new['zipcode'] = d_new['zipcode'].astype('object')\n"
   ],
   "metadata": {
    "collapsed": false
   },
   "execution_count": 21
  },
  {
   "metadata": {
    "ExecuteTime": {
     "end_time": "2024-04-08T20:04:43.544471Z",
     "start_time": "2024-04-08T20:04:43.521658Z"
    }
   },
   "cell_type": "code",
   "source": [
    "# check the missing value again\n",
    "d_new.isnull().sum()"
   ],
   "outputs": [
    {
     "data": {
      "text/plain": "fico               0\ndt_first_pi        0\nflag_fthb          0\ndt_matr            0\ncd_msa             0\nmi_pct             0\ncnt_units          0\noccpy_sts          0\ncltv               0\ndti                0\norig_upb           0\nltv                0\nint_rt             0\nchannel            0\nppmt_pnlty        38\nprod_type          0\nst                 0\nprop_type          0\nzipcode            0\nid_loan            0\nloan_purpose       0\norig_loan_term     0\ncnt_borr           0\nseller_name        0\nservicer_name      0\nflag_sc            0\nprepaid            0\ndefault            0\ndtype: int64"
     },
     "execution_count": 22,
     "metadata": {},
     "output_type": "execute_result"
    }
   ],
   "execution_count": 22
  },
  {
   "metadata": {
    "ExecuteTime": {
     "end_time": "2024-04-08T20:04:43.573575Z",
     "start_time": "2024-04-08T20:04:43.549745Z"
    }
   },
   "cell_type": "code",
   "outputs": [
    {
     "name": "stdout",
     "output_type": "stream",
     "text": [
      "<class 'pandas.core.frame.DataFrame'>\n",
      "Index: 6103 entries, 0 to 6103\n",
      "Data columns (total 28 columns):\n",
      " #   Column          Non-Null Count  Dtype  \n",
      "---  ------          --------------  -----  \n",
      " 0   fico            6103 non-null   float64\n",
      " 1   dt_first_pi     6103 non-null   int64  \n",
      " 2   flag_fthb       6103 non-null   object \n",
      " 3   dt_matr         6103 non-null   int64  \n",
      " 4   cd_msa          6103 non-null   object \n",
      " 5   mi_pct          6103 non-null   int64  \n",
      " 6   cnt_units       6103 non-null   int64  \n",
      " 7   occpy_sts       6103 non-null   object \n",
      " 8   cltv            6103 non-null   int64  \n",
      " 9   dti             6103 non-null   int64  \n",
      " 10  orig_upb        6103 non-null   int64  \n",
      " 11  ltv             6103 non-null   int64  \n",
      " 12  int_rt          6103 non-null   float64\n",
      " 13  channel         6103 non-null   object \n",
      " 14  ppmt_pnlty      6065 non-null   object \n",
      " 15  prod_type       6103 non-null   object \n",
      " 16  st              6103 non-null   object \n",
      " 17  prop_type       6103 non-null   object \n",
      " 18  zipcode         6103 non-null   object \n",
      " 19  id_loan         6103 non-null   object \n",
      " 20  loan_purpose    6103 non-null   object \n",
      " 21  orig_loan_term  6103 non-null   int64  \n",
      " 22  cnt_borr        6103 non-null   int64  \n",
      " 23  seller_name     6103 non-null   object \n",
      " 24  servicer_name   6103 non-null   object \n",
      " 25  flag_sc         6103 non-null   object \n",
      " 26  prepaid         6103 non-null   int64  \n",
      " 27  default         6103 non-null   int64  \n",
      "dtypes: float64(2), int64(12), object(14)\n",
      "memory usage: 1.4+ MB\n"
     ]
    }
   ],
   "execution_count": 23,
   "source": [
    "d_new.info()"
   ]
  },
  {
   "cell_type": "markdown",
   "source": [
    "## Baseline Model"
   ],
   "metadata": {
    "collapsed": false
   }
  },
  {
   "cell_type": "code",
   "outputs": [],
   "source": [
    "from sklearn.tree import DecisionTreeClassifier\n",
    "from sklearn.model_selection import train_test_split\n",
    "from sklearn.metrics import accuracy_score\n",
    "from sklearn.metrics import confusion_matrix\n",
    "\n",
    "\n",
    "# Split the data into features (X) and target (y)\n",
    "X = d_new.drop({'default'}, axis=1)  # Features\n",
    "y = d_new['default']  # Target\n",
    "# Convert any categorical variables to dummy variables if needed\n",
    "X = pd.get_dummies(X)\n",
    "\n",
    "# Split the data into training and testing sets\n",
    "X_train, X_test, y_train, y_test = train_test_split(X, y, test_size=0.2, random_state=42)\n",
    "\n",
    "# Initialize the decision tree classifier\n",
    "dt_classifier = DecisionTreeClassifier(random_state=42)\n",
    "\n",
    "# Train the classifier\n",
    "dt_classifier.fit(X_train, y_train)\n",
    "\n",
    "# Predict on the testing data\n",
    "y_pred = dt_classifier.predict(X_test)\n"
   ],
   "metadata": {
    "collapsed": false,
    "ExecuteTime": {
     "end_time": "2024-04-08T20:16:48.137278Z",
     "start_time": "2024-04-08T20:16:40.666053Z"
    }
   },
   "execution_count": 31
  },
  {
   "cell_type": "code",
   "outputs": [
    {
     "data": {
      "text/plain": "<Figure size 576x432 with 2 Axes>",
      "image/png": "[encoded data removed]"
     },
     "metadata": {
      "needs_background": "light"
     },
     "output_type": "display_data"
    }
   ],
   "source": [
    "import matplotlib.pyplot as plt\n",
    "import seaborn as sns\n",
    "from sklearn.metrics import confusion_matrix\n",
    "\n",
    "# Assuming y_test and y_pred are the true labels and predicted labels, respectively\n",
    "# Calculate the confusion matrix\n",
    "conf_matrix = confusion_matrix(y_test, y_pred)\n",
    "\n",
    "# Define class labels (if applicable)\n",
    "class_labels = ['Class 0', 'Class 1']  # Replace with your actual class labels if available\n",
    "\n",
    "# Plot confusion matrix\n",
    "plt.figure(figsize=(8, 6))\n",
    "sns.heatmap(conf_matrix, annot=True, fmt=\"d\", cmap=\"Blues\", xticklabels=class_labels, yticklabels=class_labels)\n",
    "plt.xlabel('Predicted labels')\n",
    "plt.ylabel('True labels')\n",
    "plt.title('Confusion Matrix')\n",
    "plt.show()\n"
   ],
   "metadata": {
    "collapsed": false,
    "ExecuteTime": {
     "end_time": "2024-04-08T20:16:53.664243Z",
     "start_time": "2024-04-08T20:16:53.340072Z"
    }
   },
   "execution_count": 32
  },
  {
   "cell_type": "code",
   "outputs": [
    {
     "name": "stdout",
     "output_type": "stream",
     "text": [
      "Classification Report:\n",
      "              precision    recall  f1-score   support\n",
      "\n",
      "           0       0.98      1.00      0.99      1199\n",
      "           1       0.00      0.00      0.00        22\n",
      "\n",
      "    accuracy                           0.98      1221\n",
      "   macro avg       0.49      0.50      0.50      1221\n",
      "weighted avg       0.96      0.98      0.97      1221\n"
     ]
    }
   ],
   "source": [
    "from sklearn.metrics import classification_report\n",
    "\n",
    "# Assuming y_test and y_pred are the true labels and predicted labels, respectively\n",
    "# Generate the classification report\n",
    "report = classification_report(y_test, y_pred)\n",
    "\n",
    "# Print the classification report\n",
    "print(\"Classification Report:\")\n",
    "print(report)"
   ],
   "metadata": {
    "collapsed": false,
    "ExecuteTime": {
     "end_time": "2024-04-08T20:16:55.207902Z",
     "start_time": "2024-04-08T20:16:55.189601Z"
    }
   },
   "execution_count": 33
  },
  {
   "cell_type": "markdown",
   "metadata": {
    "cell_id": "2f8169f6321440e8b5ea4f531ad84e40",
    "deepnote_cell_type": "markdown"
   },
   "source": "# Introduction\n\n*This section should include a brief introduction to the task and the data (assume this is a report you are delivering to a professional body (e.g. FreddiMac company or similar company). If you use any additional data sources, you should introduce them here and discuss why they were included.*\n\n*Briefly outline the approaches being used and the conclusions that you are able to draw.*",
   "block_group": "1d95ae4a4eb54e66a4fe8bdd9be2c361"
  },
  {
   "metadata": {},
   "cell_type": "code",
   "outputs": [],
   "execution_count": null,
   "source": ""
  },
  {
   "cell_type": "markdown",
   "metadata": {
    "cell_id": "39bbd2e9126647069f9c854fc6876df9",
    "deepnote_cell_type": "markdown"
   },
   "source": "# Exploratory Data Analysis and Feature Engineering\n\n*Include a detailed discussion of the data with a particular emphasis on the features of the data that are relevant for the subsequent modeling. Including visualizations of the data is strongly encouraged - all code and plots must also be described in the write up. Think carefully about whether each plot needs to be included in your final draft - your report should include figures but they should be as focused and impactful as possible.*\n\n*You should also split your data into training and testing sets, ideally before you look to much into the features and relationships with the target*\n\n*Additionally, this section should also implement and describe any preprocessing / feature engineering of the data. Specifically, this should be any code that you use to generate new columns in the data frame `d`. Feature engineering that will be performed as part of an sklearn pipeline can be mentioned here but should be implemented in the following section.*\n\n*If you decide to extract additional features from the full data (easyshare_all.csv), describe these variables here.*\n\n*All code and figures should be accompanied by text that provides an overview / context to what is being done or presented.*",
   "block_group": "4b81cb8f90184712b3a6acffa3fecb28"
  },
  {
   "metadata": {},
   "cell_type": "code",
   "outputs": [],
   "execution_count": null,
   "source": ""
  },
  {
   "cell_type": "markdown",
   "metadata": {
    "cell_id": "853e4d50d5b94ee58f24a09b5822ac1c",
    "deepnote_cell_type": "markdown"
   },
   "source": "# Model Fitting and Tuning\n\n*In this section you should detail your choice of model and describe the process used to refine and fit that model. You are strongly encouraged to explore many different modeling methods (e.g. linear regression, interaction terms, lasso, etc.) but you should not include a detailed narrative of all of these attempts. At most this section should mention the methods explored and why they were rejected - most of your effort should go into describing the model you are using and your process for tuning and validating it.*\n\n*For example if you considered a linear regression model, a polynomial regression, and a lasso model and ultimately settled on the linear regression approach then you should mention that other two approaches were tried but do not include any of the code or any in depth discussion of these models beyond why they were rejected. This section should then detail is the development of the linear regression model in terms of features used, interactions considered, and any additional tuning and validation which ultimately led to your final model.* \n\n*This section should also include the full implementation of your final model, including all necessary validation. As with figures, any included code must also be addressed in the text of the document.*\n\n*Finally, you should also provide comparison of your model with baseline model(s) on the test data but only briefly describe the baseline model(s) considered*",
   "block_group": "5c4b38d773f3439c8b602e097a44a263"
  },
  {
   "cell_type": "markdown",
   "metadata": {
    "cell_id": "9253c78a6fa444f0a548664eda0fc678",
    "deepnote_cell_type": "markdown"
   },
   "source": "# Discussion & Conclusions\n\n*In this section you should provide a general overview of your final model, its performance, and reliability. You should discuss what the implications of your model are in terms of the included features, predictive performance, and anything else you think is relevant.*\n\n*This should be written with a target audience of a government official or charity directy, who is understands the pressing challenges associated with ageining and dementia but may only have university level mathematics (not necessarily postgraduate statistics or machine learning). Your goal should be to highlight to this audience how your model can useful. You should also mention potential limitations of your model.*\n\n*Finally, you should include recommendations on potential lifestyle changes or governmental/societal interventions to reduce dementia risk.*\n\n*Keep in mind that a negative result, i.e. a model that does not work well predictively, that is well explained and justified in terms of why it failed will likely receive higher marks than a model with strong predictive performance but with poor or incorrect explinations / justifications.*",
   "block_group": "50aa14f8d99848ee8222e48b132aa056"
  },
  {
   "cell_type": "markdown",
   "metadata": {
    "cell_id": "4f98e37a549e47b2b58c99b78c3f0496",
    "deepnote_cell_type": "markdown"
   },
   "source": "# References\n\n*Include references if any*",
   "block_group": "a543ce81df1d4d4e902683b1fb792895"
  },
  {
   "cell_type": "code",
   "metadata": {
    "cell_id": "615724a3c1e54900913f27adb7d3c47e",
    "deepnote_cell_type": "code"
   },
   "source": "# Run the following to render to PDF\n!jupyter nbconvert --to pdf project2.ipynb",
   "block_group": "b7f3a93ade1a4126b0a00fc453a5aea7",
   "execution_count": null,
   "outputs": [],
   "outputs_reference": null
  },
  {
   "cell_type": "markdown",
   "source": "<a style='text-decoration:none;line-height:16px;display:flex;color:#5B5B62;padding:10px;justify-content:end;' href='https://deepnote.com?utm_source=created-in-deepnote-cell&projectId=a2a9ec8d-a343-4210-b36b-f9db26268fc5' target=\"_blank\">\n<img alt='Created in deepnote.com' style='display:inline;max-height:16px;margin:0px;margin-right:7.5px;' src='data:image/svg+xml;base64,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' > </img>\nCreated in <span style='font-weight:600;margin-left:4px;'>Deepnote</span></a>",
   "metadata": {
    "created_in_deepnote_cell": true,
    "deepnote_cell_type": "markdown"
   }
  }
 ],
 "nbformat": 4,
 "nbformat_minor": 0,
 "metadata": {
  "deepnote_notebook_id": "d2f25b2b0abf4f65af08d733185ca9f1",
  "deepnote_execution_queue": [],
  "kernelspec": {
   "name": "python3",
   "language": "python",
   "display_name": "Python 3 (ipykernel)"
  }
 }
}
